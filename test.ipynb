{
 "cells": [
  {
   "cell_type": "code",
   "execution_count": 1,
   "metadata": {},
   "outputs": [],
   "source": [
    "import numpy as np\n",
    "import pandas as pd\n",
    "from sklearn.datasets import load_boston\n",
    "from z_distance_combos import VariableChooser, z_distance"
   ]
  },
  {
   "cell_type": "code",
   "execution_count": 2,
   "metadata": {},
   "outputs": [],
   "source": [
    "boston = load_boston()\n",
    "df = pd.DataFrame(boston.data, columns=[list(boston.feature_names)])\n",
    "df.columns = [col[0] for col in df.columns.values]\n",
    "df['PRICE'] = boston.target"
   ]
  },
  {
   "cell_type": "code",
   "execution_count": 4,
   "metadata": {},
   "outputs": [
    {
     "data": {
      "text/plain": [
       "1.1406268062748648"
      ]
     },
     "execution_count": 4,
     "metadata": {},
     "output_type": "execute_result"
    }
   ],
   "source": [
    "z_distance(df[['PRICE', 'INDUS', 'NOX', 'AGE', 'TAX', 'RAD']], 'PRICE')"
   ]
  },
  {
   "cell_type": "code",
   "execution_count": 5,
   "metadata": {},
   "outputs": [
    {
     "data": {
      "text/plain": [
       "0.8277173487342929"
      ]
     },
     "execution_count": 5,
     "metadata": {},
     "output_type": "execute_result"
    }
   ],
   "source": [
    "z_distance(df[['PRICE', 'DIS', 'RM', 'PTRATIO', 'LSTAT', 'TAX']], 'PRICE')"
   ]
  },
  {
   "cell_type": "code",
   "execution_count": 6,
   "metadata": {},
   "outputs": [
    {
     "data": {
      "text/plain": [
       "('CRIM', 'ZN', 'INDUS', 'RM', 'PTRATIO', 'B', 'LSTAT')"
      ]
     },
     "execution_count": 6,
     "metadata": {},
     "output_type": "execute_result"
    }
   ],
   "source": [
    "vc = VariableChooser(df, 'PRICE')\n",
    "\n",
    "cols = df.drop('PRICE', axis=1).columns\n",
    "solution = vc.select_combo(cols, len_penalty=True)\n",
    "solution"
   ]
  },
  {
   "cell_type": "code",
   "execution_count": 7,
   "metadata": {},
   "outputs": [
    {
     "name": "stdout",
     "output_type": "stream",
     "text": [
      "(('CRIM', 'ZN', 'INDUS', 'RM', 'PTRATIO', 'B', 'LSTAT'), 0.8516304471644691)\n",
      "(('CRIM', 'ZN', 'RM', 'TAX', 'PTRATIO', 'B', 'LSTAT'), 0.8540090746314815)\n",
      "(('CRIM', 'ZN', 'NOX', 'RM', 'PTRATIO', 'B', 'LSTAT'), 0.8553968409506105)\n",
      "(('CRIM', 'ZN', 'RM', 'AGE', 'TAX', 'PTRATIO', 'B', 'LSTAT'), 0.8568113100210161)\n",
      "(('CRIM', 'ZN', 'NOX', 'RM', 'TAX', 'PTRATIO', 'B', 'LSTAT'), 0.8578465975114989)\n",
      "(('CRIM', 'ZN', 'INDUS', 'RM', 'TAX', 'PTRATIO', 'B', 'LSTAT'), 0.8597582199790434)\n",
      "(('CRIM', 'INDUS', 'RM', 'PTRATIO', 'B', 'LSTAT'), 0.8599144540120842)\n",
      "(('CRIM', 'ZN', 'RM', 'TAX', 'PTRATIO', 'LSTAT'), 0.861060223522834)\n",
      "(('CRIM', 'ZN', 'INDUS', 'RM', 'PTRATIO', 'LSTAT'), 0.8615809706768566)\n",
      "(('CRIM', 'ZN', 'INDUS', 'RM', 'PTRATIO', 'B'), 0.8621542610047892)\n"
     ]
    }
   ],
   "source": [
    "for i in np.arange(10):\n",
    "    print(vc.solutions[i])"
   ]
  },
  {
   "cell_type": "markdown",
   "metadata": {},
   "source": [
    " "
   ]
  }
 ],
 "metadata": {
  "kernelspec": {
   "display_name": "Python 3",
   "language": "python",
   "name": "python3"
  },
  "language_info": {
   "codemirror_mode": {
    "name": "ipython",
    "version": 3
   },
   "file_extension": ".py",
   "mimetype": "text/x-python",
   "name": "python",
   "nbconvert_exporter": "python",
   "pygments_lexer": "ipython3",
   "version": "3.7.9"
  }
 },
 "nbformat": 4,
 "nbformat_minor": 4
}
